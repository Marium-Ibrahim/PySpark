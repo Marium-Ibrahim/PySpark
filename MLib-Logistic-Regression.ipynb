{
 "cells": [
  {
   "cell_type": "markdown",
   "id": "f76654a9",
   "metadata": {},
   "source": [
    "# Imports & Data Loads"
   ]
  },
  {
   "cell_type": "code",
   "execution_count": 14,
   "id": "135b0fed",
   "metadata": {},
   "outputs": [],
   "source": [
    "# PySpark Initialization\n",
    "\n",
    "\n",
    "import findspark\n",
    "findspark.init('/usr/local/spark')"
   ]
  },
  {
   "cell_type": "code",
   "execution_count": 15,
   "id": "976b867f",
   "metadata": {},
   "outputs": [],
   "source": [
    "# Imports\n",
    "\n",
    "from pyspark.sql import SparkSession\n",
    "import pyspark.sql.functions as F\n",
    "from pyspark.sql.types import StructType, StructField, IntegerType\n",
    "from pyspark.ml.feature import VectorAssembler\n",
    "from pyspark.ml.classification import RandomForestClassifier\n",
    "from pyspark.ml.evaluation import BinaryClassificationEvaluator\n",
    "from sklearn.metrics import classification_report, confusion_matrix\n",
    "\n",
    "\n",
    "\n"
   ]
  },
  {
   "cell_type": "code",
   "execution_count": 16,
   "id": "754ac0dd",
   "metadata": {},
   "outputs": [
    {
     "name": "stdout",
     "output_type": "stream",
     "text": [
      "+----+-------+------------------------+--------+-----------------+-------------------+---------+----------------+------------+---+-------+----+-----------+\n",
      "| age|anaemia|creatinine_phosphokinase|diabetes|ejection_fraction|high_blood_pressure|platelets|serum_creatinine|serum_sodium|sex|smoking|time|DEATH_EVENT|\n",
      "+----+-------+------------------------+--------+-----------------+-------------------+---------+----------------+------------+---+-------+----+-----------+\n",
      "|75.0|      0|                     582|       0|               20|                  1| 265000.0|             1.9|         130|  1|      0|   4|          1|\n",
      "|55.0|      0|                    7861|       0|               38|                  0|263358.03|             1.1|         136|  1|      0|   6|          1|\n",
      "|65.0|      0|                     146|       0|               20|                  0| 162000.0|             1.3|         129|  1|      1|   7|          1|\n",
      "|50.0|      1|                     111|       0|               20|                  0| 210000.0|             1.9|         137|  1|      0|   7|          1|\n",
      "|65.0|      1|                     160|       1|               20|                  0| 327000.0|             2.7|         116|  0|      0|   8|          1|\n",
      "+----+-------+------------------------+--------+-----------------+-------------------+---------+----------------+------------+---+-------+----+-----------+\n",
      "only showing top 5 rows\n",
      "\n"
     ]
    }
   ],
   "source": [
    "# CReating Spark Session\n",
    "\n",
    "spark = SparkSession.builder.getOrCreate()\n",
    "df = spark.read.csv('heart_failure_clinical_records_dataset.csv', header = True, inferSchema = True)\n",
    "df.show(5)"
   ]
  },
  {
   "cell_type": "code",
   "execution_count": 17,
   "id": "5c56ecc5",
   "metadata": {},
   "outputs": [],
   "source": [
    "# Variables\n",
    "\n",
    "target = \"DEATH_EVENT\"\n",
    "numericCols = ['age',\n",
    " 'anaemia',\n",
    " 'creatinine_phosphokinase',\n",
    " 'diabetes',\n",
    " 'ejection_fraction',\n",
    " 'high_blood_pressure',\n",
    " 'platelets',\n",
    " 'serum_creatinine',\n",
    " 'serum_sodium',\n",
    " 'sex',\n",
    " 'smoking',\n",
    " 'time']"
   ]
  },
  {
   "cell_type": "code",
   "execution_count": 18,
   "id": "6783c31f",
   "metadata": {},
   "outputs": [
    {
     "name": "stdout",
     "output_type": "stream",
     "text": [
      "+-----------+\n",
      "|DEATH_EVENT|\n",
      "+-----------+\n",
      "|          1|\n",
      "|          1|\n",
      "|          1|\n",
      "|          1|\n",
      "|          1|\n",
      "|          1|\n",
      "|          1|\n",
      "|          1|\n",
      "|          1|\n",
      "|          1|\n",
      "|          1|\n",
      "|          1|\n",
      "|          1|\n",
      "|          1|\n",
      "|          0|\n",
      "|          1|\n",
      "|          1|\n",
      "|          1|\n",
      "|          1|\n",
      "|          1|\n",
      "+-----------+\n",
      "only showing top 20 rows\n",
      "\n"
     ]
    }
   ],
   "source": [
    "df.select(target).show()"
   ]
  },
  {
   "cell_type": "code",
   "execution_count": 19,
   "id": "f740d47b",
   "metadata": {},
   "outputs": [
    {
     "name": "stdout",
     "output_type": "stream",
     "text": [
      "Total data count =  299\n",
      "Total featues =  12\n",
      "['age', 'anaemia', 'creatinine_phosphokinase', 'diabetes', 'ejection_fraction', 'high_blood_pressure', 'platelets', 'serum_creatinine', 'serum_sodium', 'sex', 'smoking', 'time', 'DEATH_EVENT']\n",
      "root\n",
      " |-- age: double (nullable = true)\n",
      " |-- anaemia: integer (nullable = true)\n",
      " |-- creatinine_phosphokinase: integer (nullable = true)\n",
      " |-- diabetes: integer (nullable = true)\n",
      " |-- ejection_fraction: integer (nullable = true)\n",
      " |-- high_blood_pressure: integer (nullable = true)\n",
      " |-- platelets: double (nullable = true)\n",
      " |-- serum_creatinine: double (nullable = true)\n",
      " |-- serum_sodium: integer (nullable = true)\n",
      " |-- sex: integer (nullable = true)\n",
      " |-- smoking: integer (nullable = true)\n",
      " |-- time: integer (nullable = true)\n",
      " |-- DEATH_EVENT: integer (nullable = true)\n",
      "\n",
      "The Schema None\n",
      "+-------+------------------+------------------+------------------------+------------------+------------------+-------------------+------------------+------------------+------------------+------------------+------------------+-----------------+-------------------+\n",
      "|summary|               age|           anaemia|creatinine_phosphokinase|          diabetes| ejection_fraction|high_blood_pressure|         platelets|  serum_creatinine|      serum_sodium|               sex|           smoking|             time|        DEATH_EVENT|\n",
      "+-------+------------------+------------------+------------------------+------------------+------------------+-------------------+------------------+------------------+------------------+------------------+------------------+-----------------+-------------------+\n",
      "|  count|               299|               299|                     299|               299|               299|                299|               299|               299|               299|               299|               299|              299|                299|\n",
      "|   mean| 60.83389297658862| 0.431438127090301|       581.8394648829432|0.4180602006688963| 38.08361204013378| 0.3511705685618729|263358.02926421416| 1.393879598662207|136.62541806020067|0.6488294314381271|0.3210702341137124|130.2608695652174| 0.3210702341137124|\n",
      "| stddev|11.894809074044469|0.4961072681330795|       970.2878807124358|0.4940670651036091|11.834840741039168| 0.4781363790627446|  97804.2368685983|1.0345100640898544| 4.412477283909232|0.4781363790627448|0.4676704280567715|77.61420795029336|0.46767042805677195|\n",
      "|    min|              40.0|                 0|                      23|                 0|                14|                  0|           25100.0|               0.5|               113|                 0|                 0|                4|                  0|\n",
      "|    max|              95.0|                 1|                    7861|                 1|                80|                  1|          850000.0|               9.4|               148|                 1|                 1|              285|                  1|\n",
      "+-------+------------------+------------------+------------------------+------------------+------------------+-------------------+------------------+------------------+------------------+------------------+------------------+-----------------+-------------------+\n",
      "\n",
      "Statistics None\n"
     ]
    }
   ],
   "source": [
    "print(\"Total data count = \", df.count())\n",
    "print(\"Total featues = \", len(df.columns) - 1)\n",
    "print(df.columns)\n",
    "print(\"The Schema\", df.printSchema())\n",
    "print(\"Statistics\", df.describe().show())"
   ]
  },
  {
   "cell_type": "markdown",
   "id": "17d0c1d5",
   "metadata": {},
   "source": [
    "# Random Forest"
   ]
  },
  {
   "cell_type": "code",
   "execution_count": 20,
   "id": "d8f563b8",
   "metadata": {},
   "outputs": [
    {
     "name": "stdout",
     "output_type": "stream",
     "text": [
      "VectorAssembler_fb3e00509ca8\n"
     ]
    }
   ],
   "source": [
    "\n",
    "assembler = VectorAssembler(inputCols=numericCols, outputCol=\"features\")\n",
    "print(assembler)"
   ]
  },
  {
   "cell_type": "code",
   "execution_count": 21,
   "id": "f0c3e191",
   "metadata": {},
   "outputs": [
    {
     "name": "stdout",
     "output_type": "stream",
     "text": [
      "+----+-------+------------------------+--------+-----------------+-------------------+---------+----------------+------------+---+-------+----+-----------+--------------------+\n",
      "| age|anaemia|creatinine_phosphokinase|diabetes|ejection_fraction|high_blood_pressure|platelets|serum_creatinine|serum_sodium|sex|smoking|time|DEATH_EVENT|            features|\n",
      "+----+-------+------------------------+--------+-----------------+-------------------+---------+----------------+------------+---+-------+----+-----------+--------------------+\n",
      "|75.0|      0|                     582|       0|               20|                  1| 265000.0|             1.9|         130|  1|      0|   4|          1|[75.0,0.0,582.0,0...|\n",
      "|55.0|      0|                    7861|       0|               38|                  0|263358.03|             1.1|         136|  1|      0|   6|          1|[55.0,0.0,7861.0,...|\n",
      "|65.0|      0|                     146|       0|               20|                  0| 162000.0|             1.3|         129|  1|      1|   7|          1|[65.0,0.0,146.0,0...|\n",
      "|50.0|      1|                     111|       0|               20|                  0| 210000.0|             1.9|         137|  1|      0|   7|          1|[50.0,1.0,111.0,0...|\n",
      "|65.0|      1|                     160|       1|               20|                  0| 327000.0|             2.7|         116|  0|      0|   8|          1|[65.0,1.0,160.0,1...|\n",
      "|90.0|      1|                      47|       0|               40|                  1| 204000.0|             2.1|         132|  1|      1|   8|          1|[90.0,1.0,47.0,0....|\n",
      "|75.0|      1|                     246|       0|               15|                  0| 127000.0|             1.2|         137|  1|      0|  10|          1|[75.0,1.0,246.0,0...|\n",
      "|60.0|      1|                     315|       1|               60|                  0| 454000.0|             1.1|         131|  1|      1|  10|          1|[60.0,1.0,315.0,1...|\n",
      "|65.0|      0|                     157|       0|               65|                  0|263358.03|             1.5|         138|  0|      0|  10|          1|[65.0,0.0,157.0,0...|\n",
      "|80.0|      1|                     123|       0|               35|                  1| 388000.0|             9.4|         133|  1|      1|  10|          1|[80.0,1.0,123.0,0...|\n",
      "|75.0|      1|                      81|       0|               38|                  1| 368000.0|             4.0|         131|  1|      1|  10|          1|[75.0,1.0,81.0,0....|\n",
      "|62.0|      0|                     231|       0|               25|                  1| 253000.0|             0.9|         140|  1|      1|  10|          1|[62.0,0.0,231.0,0...|\n",
      "|45.0|      1|                     981|       0|               30|                  0| 136000.0|             1.1|         137|  1|      0|  11|          1|[45.0,1.0,981.0,0...|\n",
      "|50.0|      1|                     168|       0|               38|                  1| 276000.0|             1.1|         137|  1|      0|  11|          1|[50.0,1.0,168.0,0...|\n",
      "|49.0|      1|                      80|       0|               30|                  1| 427000.0|             1.0|         138|  0|      0|  12|          0|[49.0,1.0,80.0,0....|\n",
      "|82.0|      1|                     379|       0|               50|                  0|  47000.0|             1.3|         136|  1|      0|  13|          1|[82.0,1.0,379.0,0...|\n",
      "|87.0|      1|                     149|       0|               38|                  0| 262000.0|             0.9|         140|  1|      0|  14|          1|[87.0,1.0,149.0,0...|\n",
      "|45.0|      0|                     582|       0|               14|                  0| 166000.0|             0.8|         127|  1|      0|  14|          1|[45.0,0.0,582.0,0...|\n",
      "|70.0|      1|                     125|       0|               25|                  1| 237000.0|             1.0|         140|  0|      0|  15|          1|[70.0,1.0,125.0,0...|\n",
      "|48.0|      1|                     582|       1|               55|                  0|  87000.0|             1.9|         121|  0|      0|  15|          1|[48.0,1.0,582.0,1...|\n",
      "+----+-------+------------------------+--------+-----------------+-------------------+---------+----------------+------------+---+-------+----+-----------+--------------------+\n",
      "only showing top 20 rows\n",
      "\n"
     ]
    }
   ],
   "source": [
    "out_df = assembler.transform(df)\n",
    "out_df.show()"
   ]
  },
  {
   "cell_type": "code",
   "execution_count": 22,
   "id": "3312e0fd",
   "metadata": {},
   "outputs": [
    {
     "name": "stdout",
     "output_type": "stream",
     "text": [
      "+--------------------------------------------------------------+-----------+\n",
      "|features                                                      |DEATH_EVENT|\n",
      "+--------------------------------------------------------------+-----------+\n",
      "|[75.0,0.0,582.0,0.0,20.0,1.0,265000.0,1.9,130.0,1.0,0.0,4.0]  |1          |\n",
      "|[55.0,0.0,7861.0,0.0,38.0,0.0,263358.03,1.1,136.0,1.0,0.0,6.0]|1          |\n",
      "|[65.0,0.0,146.0,0.0,20.0,0.0,162000.0,1.3,129.0,1.0,1.0,7.0]  |1          |\n",
      "|[50.0,1.0,111.0,0.0,20.0,0.0,210000.0,1.9,137.0,1.0,0.0,7.0]  |1          |\n",
      "|[65.0,1.0,160.0,1.0,20.0,0.0,327000.0,2.7,116.0,0.0,0.0,8.0]  |1          |\n",
      "|[90.0,1.0,47.0,0.0,40.0,1.0,204000.0,2.1,132.0,1.0,1.0,8.0]   |1          |\n",
      "|[75.0,1.0,246.0,0.0,15.0,0.0,127000.0,1.2,137.0,1.0,0.0,10.0] |1          |\n",
      "|[60.0,1.0,315.0,1.0,60.0,0.0,454000.0,1.1,131.0,1.0,1.0,10.0] |1          |\n",
      "|[65.0,0.0,157.0,0.0,65.0,0.0,263358.03,1.5,138.0,0.0,0.0,10.0]|1          |\n",
      "|[80.0,1.0,123.0,0.0,35.0,1.0,388000.0,9.4,133.0,1.0,1.0,10.0] |1          |\n",
      "|[75.0,1.0,81.0,0.0,38.0,1.0,368000.0,4.0,131.0,1.0,1.0,10.0]  |1          |\n",
      "|[62.0,0.0,231.0,0.0,25.0,1.0,253000.0,0.9,140.0,1.0,1.0,10.0] |1          |\n",
      "|[45.0,1.0,981.0,0.0,30.0,0.0,136000.0,1.1,137.0,1.0,0.0,11.0] |1          |\n",
      "|[50.0,1.0,168.0,0.0,38.0,1.0,276000.0,1.1,137.0,1.0,0.0,11.0] |1          |\n",
      "|[49.0,1.0,80.0,0.0,30.0,1.0,427000.0,1.0,138.0,0.0,0.0,12.0]  |0          |\n",
      "|[82.0,1.0,379.0,0.0,50.0,0.0,47000.0,1.3,136.0,1.0,0.0,13.0]  |1          |\n",
      "|[87.0,1.0,149.0,0.0,38.0,0.0,262000.0,0.9,140.0,1.0,0.0,14.0] |1          |\n",
      "|[45.0,0.0,582.0,0.0,14.0,0.0,166000.0,0.8,127.0,1.0,0.0,14.0] |1          |\n",
      "|[70.0,1.0,125.0,0.0,25.0,1.0,237000.0,1.0,140.0,0.0,0.0,15.0] |1          |\n",
      "|[48.0,1.0,582.0,1.0,55.0,0.0,87000.0,1.9,121.0,0.0,0.0,15.0]  |1          |\n",
      "+--------------------------------------------------------------+-----------+\n",
      "only showing top 20 rows\n",
      "\n"
     ]
    }
   ],
   "source": [
    "model_df = out_df.select([\"features\", target])\n",
    "model_df.show(truncate=False)"
   ]
  },
  {
   "cell_type": "code",
   "execution_count": 23,
   "id": "e2b857c0",
   "metadata": {},
   "outputs": [
    {
     "name": "stdout",
     "output_type": "stream",
     "text": [
      "203\n",
      "96\n"
     ]
    }
   ],
   "source": [
    "train_df, test_df = model_df.randomSplit([0.67, 0.33], seed=1)\n",
    "print(train_df.count())\n",
    "print(test_df.count())"
   ]
  },
  {
   "cell_type": "code",
   "execution_count": 24,
   "id": "a09c5d5d",
   "metadata": {},
   "outputs": [
    {
     "name": "stdout",
     "output_type": "stream",
     "text": [
      "+--------------------+-----------+--------------------+--------------------+----------+\n",
      "|            features|DEATH_EVENT|       rawPrediction|         probability|prediction|\n",
      "+--------------------+-----------+--------------------+--------------------+----------+\n",
      "|[40.0,0.0,624.0,0...|          0|[46.8304599995571...|[0.93660919999114...|       0.0|\n",
      "|[40.0,1.0,101.0,0...|          0|[47.7367168617189...|[0.95473433723437...|       0.0|\n",
      "|[42.0,1.0,86.0,0....|          0|[47.3845057775709...|[0.94769011555141...|       0.0|\n",
      "|[42.0,1.0,250.0,1...|          1|[17.6214379648799...|[0.35242875929759...|       1.0|\n",
      "|[43.0,1.0,358.0,0...|          0|[44.1657455266273...|[0.88331491053254...|       0.0|\n",
      "|[44.0,0.0,84.0,1....|          0|[47.3833270662320...|[0.94766654132464...|       0.0|\n",
      "|[44.0,0.0,582.0,1...|          0|[32.4355190924756...|[0.64871038184951...|       0.0|\n",
      "|[45.0,0.0,2060.0,...|          0|[45.3303029558752...|[0.90660605911750...|       0.0|\n",
      "|[45.0,0.0,7702.0,...|          1|[21.1385176530578...|[0.42277035306115...|       1.0|\n",
      "|[45.0,1.0,66.0,1....|          0|[43.4790896202844...|[0.86958179240568...|       0.0|\n",
      "|[45.0,1.0,981.0,0...|          1|[17.9445346372280...|[0.35889069274456...|       1.0|\n",
      "|[46.0,1.0,291.0,0...|          0|[47.0371497656447...|[0.94074299531289...|       0.0|\n",
      "|[48.0,1.0,131.0,1...|          1|[23.7737111087926...|[0.47547422217585...|       1.0|\n",
      "|[48.0,1.0,582.0,1...|          1|[5.73625394720222...|[0.11472507894404...|       1.0|\n",
      "|[49.0,0.0,789.0,0...|          1|[19.0477674431596...|[0.38095534886319...|       1.0|\n",
      "|[49.0,0.0,972.0,1...|          0|[42.7111453557149...|[0.85422290711429...|       0.0|\n",
      "|[49.0,1.0,80.0,0....|          0|[20.0998941384286...|[0.40199788276857...|       1.0|\n",
      "|[50.0,0.0,115.0,0...|          0|[44.5225279224387...|[0.89045055844877...|       0.0|\n",
      "|[50.0,0.0,124.0,1...|          1|[23.2456809666705...|[0.46491361933341...|       1.0|\n",
      "|[50.0,0.0,245.0,0...|          0|[47.5468236384177...|[0.95093647276835...|       0.0|\n",
      "+--------------------+-----------+--------------------+--------------------+----------+\n",
      "only showing top 20 rows\n",
      "\n"
     ]
    }
   ],
   "source": [
    "\n",
    "rf_model = RandomForestClassifier(labelCol = target, numTrees=50)\n",
    "rf_classifier = rf_model.fit(train_df)\n",
    "\n",
    "rf_prediction = rf_classifier.transform(test_df)\n",
    "rf_prediction.show()\n"
   ]
  },
  {
   "cell_type": "code",
   "execution_count": 25,
   "id": "4df4a17b",
   "metadata": {},
   "outputs": [
    {
     "name": "stdout",
     "output_type": "stream",
     "text": [
      "Accuracy = 0.8818858560794046\n",
      "Test Error = 0.11811414392059538\n",
      "              precision    recall  f1-score   support\n",
      "\n",
      "           0       0.88      0.88      0.88        65\n",
      "           1       0.74      0.74      0.74        31\n",
      "\n",
      "    accuracy                           0.83        96\n",
      "   macro avg       0.81      0.81      0.81        96\n",
      "weighted avg       0.83      0.83      0.83        96\n",
      "\n"
     ]
    }
   ],
   "source": [
    "\n",
    "\n",
    "evaluator = BinaryClassificationEvaluator(labelCol=\"DEATH_EVENT\")\n",
    "accuracy = evaluator.evaluate(rf_prediction)\n",
    "print(\"Accuracy = %s\" % (accuracy))\n",
    "print(\"Test Error = %s\" % (1.0 - accuracy))\n",
    "\n",
    "\n",
    "rf_y_true = rf_prediction.select(['DEATH_EVENT']).collect()\n",
    "rf_y_pred = rf_prediction.select(['prediction']).collect()\n",
    "\n",
    "\n",
    "print(classification_report(rf_y_true, rf_y_pred))"
   ]
  },
  {
   "cell_type": "markdown",
   "id": "7999bb58",
   "metadata": {},
   "source": [
    "# Logistic Regression"
   ]
  },
  {
   "cell_type": "code",
   "execution_count": 26,
   "id": "104bc8fd",
   "metadata": {},
   "outputs": [],
   "source": [
    "from pyspark.ml.feature import VectorAssembler, StringIndexer, OneHotEncoder\n",
    "from pyspark.ml.classification import LogisticRegression"
   ]
  },
  {
   "cell_type": "code",
   "execution_count": 27,
   "id": "f0db3093",
   "metadata": {},
   "outputs": [],
   "source": [
    "#indexer = StringIndexer(inputCol=\" \", ouputCol=\"\")"
   ]
  },
  {
   "cell_type": "code",
   "execution_count": 34,
   "id": "e05e8f95",
   "metadata": {},
   "outputs": [
    {
     "name": "stdout",
     "output_type": "stream",
     "text": [
      "+--------------------+-----------+--------------------+--------------------+----------+\n",
      "|            features|DEATH_EVENT|       rawPrediction|         probability|prediction|\n",
      "+--------------------+-----------+--------------------+--------------------+----------+\n",
      "|[40.0,0.0,624.0,0...|          0|[5.43632757946729...|[0.99566343869484...|       0.0|\n",
      "|[40.0,1.0,101.0,0...|          0|[4.11688092331894...|[0.98396601652362...|       0.0|\n",
      "|[42.0,1.0,86.0,0....|          0|[4.88112377849984...|[0.99246866989706...|       0.0|\n",
      "|[42.0,1.0,250.0,1...|          1|[-1.4940742452822...|[0.18331099284352...|       1.0|\n",
      "|[43.0,1.0,358.0,0...|          0|[1.35309420898581...|[0.79463503312921...|       0.0|\n",
      "|[44.0,0.0,84.0,1....|          0|[2.14680618482791...|[0.89536994955701...|       0.0|\n",
      "|[44.0,0.0,582.0,1...|          0|[4.05723605641176...|[0.98299733071852...|       0.0|\n",
      "|[45.0,0.0,2060.0,...|          0|[7.59640311786337...|[0.99949799739373...|       0.0|\n",
      "|[45.0,0.0,7702.0,...|          1|[-0.3117456472745...|[0.42268870345810...|       1.0|\n",
      "|[45.0,1.0,66.0,1....|          0|[3.89176344543160...|[0.97999888565708...|       0.0|\n",
      "|[45.0,1.0,981.0,0...|          1|[-1.3610137904855...|[0.20407558417056...|       1.0|\n",
      "|[46.0,1.0,291.0,0...|          0|[1.64101976972654...|[0.83767364989734...|       0.0|\n",
      "|[48.0,1.0,131.0,1...|          1|[1.64739548540695...|[0.83853873206434...|       0.0|\n",
      "|[48.0,1.0,582.0,1...|          1|[-2.7697831761312...|[0.05897904615122...|       1.0|\n",
      "|[49.0,0.0,789.0,0...|          1|[-0.1365204491822...|[0.46592279837049...|       1.0|\n",
      "|[49.0,0.0,972.0,1...|          0|[2.44056440067328...|[0.91986869981583...|       0.0|\n",
      "|[49.0,1.0,80.0,0....|          0|[-0.9624274282067...|[0.27639244663315...|       1.0|\n",
      "|[50.0,0.0,115.0,0...|          0|[2.81837927888648...|[0.94366096280144...|       0.0|\n",
      "|[50.0,0.0,124.0,1...|          1|[-0.7556002685680...|[0.31960225677431...|       1.0|\n",
      "|[50.0,0.0,245.0,0...|          0|[4.36524395125713...|[0.98744800160541...|       0.0|\n",
      "+--------------------+-----------+--------------------+--------------------+----------+\n",
      "only showing top 20 rows\n",
      "\n"
     ]
    }
   ],
   "source": [
    "logistic_model = LogisticRegression(labelCol = target)\n",
    "logistic_classifier = logistic_model.fit(train_df)\n",
    "\n",
    "\n",
    "logistic_output = logistic_classifier.evaluate(test_df).predictions\n",
    "logistic_output.show()\n",
    "\n",
    "# logistic_prediction = logistic_classifier.transform(test_df)\n",
    "# logistic_prediction.show()"
   ]
  },
  {
   "cell_type": "code",
   "execution_count": 35,
   "id": "e2fb6642",
   "metadata": {},
   "outputs": [
    {
     "name": "stdout",
     "output_type": "stream",
     "text": [
      "+-----------+----------+\n",
      "|DEATH_EVENT|prediction|\n",
      "+-----------+----------+\n",
      "|          0|       0.0|\n",
      "|          0|       0.0|\n",
      "|          0|       0.0|\n",
      "|          1|       1.0|\n",
      "|          0|       0.0|\n",
      "|          0|       0.0|\n",
      "|          0|       0.0|\n",
      "|          0|       0.0|\n",
      "|          1|       1.0|\n",
      "|          0|       0.0|\n",
      "|          1|       1.0|\n",
      "|          0|       0.0|\n",
      "|          1|       0.0|\n",
      "|          1|       1.0|\n",
      "|          1|       1.0|\n",
      "|          0|       0.0|\n",
      "|          0|       1.0|\n",
      "|          0|       0.0|\n",
      "|          1|       1.0|\n",
      "|          0|       0.0|\n",
      "+-----------+----------+\n",
      "only showing top 20 rows\n",
      "\n"
     ]
    }
   ],
   "source": [
    "logistic_output.select([target, \"prediction\"]).show()"
   ]
  },
  {
   "cell_type": "code",
   "execution_count": 42,
   "id": "6faa3ba8",
   "metadata": {},
   "outputs": [
    {
     "name": "stdout",
     "output_type": "stream",
     "text": [
      "True Positive, tp =  24\n",
      "True Negative, tn =  54\n",
      "False Positive, tp =  11\n",
      "False Negative, tp =  7\n"
     ]
    }
   ],
   "source": [
    "tp = logistic_output[(logistic_output.DEATH_EVENT==1) & (logistic_output.prediction==1)].count()\n",
    "print(\"True Positive, tp = \", tp)\n",
    "\n",
    "tn = logistic_output[(logistic_output.DEATH_EVENT==0) & (logistic_output.prediction==0)].count()\n",
    "print(\"True Negative, tn = \", tn)\n",
    "\n",
    "fp = logistic_output[(logistic_output.DEATH_EVENT==0) & (logistic_output.prediction==1)].count()\n",
    "print(\"False Positive, tp = \", fp)\n",
    "\n",
    "fn = logistic_output[(logistic_output.DEATH_EVENT==1) & (logistic_output.prediction==0)].count()\n",
    "print(\"False Negative, tp = \", fn)"
   ]
  },
  {
   "cell_type": "code",
   "execution_count": 46,
   "id": "d28425b1",
   "metadata": {},
   "outputs": [
    {
     "name": "stdout",
     "output_type": "stream",
     "text": [
      "Accuracy =  0.8125\n",
      "Recall =  0.6923076923076923\n",
      "Precision =  0.7741935483870968\n",
      "F1 Score =  0.7309644670050761\n"
     ]
    }
   ],
   "source": [
    "accuracy = float(tp+tn) / float(logistic_output.count())\n",
    "print(\"Accuracy = \", accuracy)\n",
    "\n",
    "recall = float(tn) / float(tp+tn)\n",
    "print(\"Recall = \", recall)\n",
    "\n",
    "precesion = float(tp) / float(tp+fn)\n",
    "print(\"Precision = \", precesion)\n",
    "\n",
    "f1_score = 2 * ( (precesion*recall) / (precesion+recall) )\n",
    "print(\"F1 Score = \", f1_score)"
   ]
  },
  {
   "cell_type": "code",
   "execution_count": 48,
   "id": "18f7da09",
   "metadata": {},
   "outputs": [
    {
     "name": "stdout",
     "output_type": "stream",
     "text": [
      "Accuracy = 0.8125\n",
      "Test Error = 0.1875\n",
      "              precision    recall  f1-score   support\n",
      "\n",
      "           0       0.89      0.83      0.86        65\n",
      "           1       0.69      0.77      0.73        31\n",
      "\n",
      "    accuracy                           0.81        96\n",
      "   macro avg       0.79      0.80      0.79        96\n",
      "weighted avg       0.82      0.81      0.82        96\n",
      "\n"
     ]
    }
   ],
   "source": [
    "log_evaluator = BinaryClassificationEvaluator(labelCol=\"DEATH_EVENT\")\n",
    "log_accuracy = log_evaluator.evaluate(logistic_output)\n",
    "print(\"Accuracy = %s\" % (accuracy))\n",
    "print(\"Test Error = %s\" % (1.0 - accuracy))\n",
    "\n",
    "\n",
    "\n",
    "log_y_true = logistic_output.select(['DEATH_EVENT']).collect()\n",
    "log_y_pred = logistic_output.select(['prediction']).collect()\n",
    "\n",
    "\n",
    "print(classification_report(log_y_true, log_y_pred))"
   ]
  },
  {
   "cell_type": "code",
   "execution_count": null,
   "id": "b5c89687",
   "metadata": {},
   "outputs": [],
   "source": []
  }
 ],
 "metadata": {
  "kernelspec": {
   "display_name": "base",
   "language": "python",
   "name": "base"
  },
  "language_info": {
   "codemirror_mode": {
    "name": "ipython",
    "version": 3
   },
   "file_extension": ".py",
   "mimetype": "text/x-python",
   "name": "python",
   "nbconvert_exporter": "python",
   "pygments_lexer": "ipython3",
   "version": "3.9.12"
  }
 },
 "nbformat": 4,
 "nbformat_minor": 5
}
